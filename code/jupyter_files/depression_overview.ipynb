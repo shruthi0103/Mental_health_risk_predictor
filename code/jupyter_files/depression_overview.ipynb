{
 "cells": [
  {
   "cell_type": "code",
   "execution_count": 14,
   "metadata": {},
   "outputs": [],
   "source": [
    "import pandas as pd"
   ]
  },
  {
   "cell_type": "markdown",
   "metadata": {},
   "source": [
    "### Inspect Data"
   ]
  },
  {
   "cell_type": "code",
   "execution_count": 15,
   "metadata": {},
   "outputs": [
    {
     "data": {
      "text/html": [
       "<div>\n",
       "<style scoped>\n",
       "    .dataframe tbody tr th:only-of-type {\n",
       "        vertical-align: middle;\n",
       "    }\n",
       "\n",
       "    .dataframe tbody tr th {\n",
       "        vertical-align: top;\n",
       "    }\n",
       "\n",
       "    .dataframe thead th {\n",
       "        text-align: right;\n",
       "    }\n",
       "</style>\n",
       "<table border=\"1\" class=\"dataframe\">\n",
       "  <thead>\n",
       "    <tr style=\"text-align: right;\">\n",
       "      <th></th>\n",
       "      <th>User ID</th>\n",
       "      <th># of posts</th>\n",
       "      <th>Post raw word count</th>\n",
       "      <th># of comments</th>\n",
       "      <th>Comment raw word count</th>\n",
       "      <th>Words total</th>\n",
       "      <th>Avg time b/w activities</th>\n",
       "      <th>In r/SuicideWatch</th>\n",
       "    </tr>\n",
       "  </thead>\n",
       "  <tbody>\n",
       "    <tr>\n",
       "      <th>0</th>\n",
       "      <td>[deleted]</td>\n",
       "      <td>211324</td>\n",
       "      <td>18814454</td>\n",
       "      <td>489114</td>\n",
       "      <td>6980379</td>\n",
       "      <td>25794833</td>\n",
       "      <td>442.94764</td>\n",
       "      <td>y</td>\n",
       "    </tr>\n",
       "    <tr>\n",
       "      <th>1</th>\n",
       "      <td>OAThrowaway</td>\n",
       "      <td>2</td>\n",
       "      <td>339</td>\n",
       "      <td>6</td>\n",
       "      <td>809</td>\n",
       "      <td>1148</td>\n",
       "      <td>206716.25000</td>\n",
       "      <td>n</td>\n",
       "    </tr>\n",
       "    <tr>\n",
       "      <th>2</th>\n",
       "      <td>whitefirebird</td>\n",
       "      <td>1</td>\n",
       "      <td>81</td>\n",
       "      <td>0</td>\n",
       "      <td>0</td>\n",
       "      <td>81</td>\n",
       "      <td>0.00000</td>\n",
       "      <td>n</td>\n",
       "    </tr>\n",
       "    <tr>\n",
       "      <th>3</th>\n",
       "      <td>throwaway45678</td>\n",
       "      <td>1</td>\n",
       "      <td>738</td>\n",
       "      <td>2</td>\n",
       "      <td>164</td>\n",
       "      <td>902</td>\n",
       "      <td>20369.66667</td>\n",
       "      <td>n</td>\n",
       "    </tr>\n",
       "    <tr>\n",
       "      <th>4</th>\n",
       "      <td>fingernailing</td>\n",
       "      <td>1</td>\n",
       "      <td>98</td>\n",
       "      <td>2</td>\n",
       "      <td>25</td>\n",
       "      <td>123</td>\n",
       "      <td>78247.33333</td>\n",
       "      <td>n</td>\n",
       "    </tr>\n",
       "  </tbody>\n",
       "</table>\n",
       "</div>"
      ],
      "text/plain": [
       "          User ID  # of posts  Post raw word count  # of comments  \\\n",
       "0       [deleted]      211324             18814454         489114   \n",
       "1     OAThrowaway           2                  339              6   \n",
       "2   whitefirebird           1                   81              0   \n",
       "3  throwaway45678           1                  738              2   \n",
       "4   fingernailing           1                   98              2   \n",
       "\n",
       "   Comment raw word count  Words total  Avg time b/w activities  \\\n",
       "0                 6980379     25794833                442.94764   \n",
       "1                     809         1148             206716.25000   \n",
       "2                       0           81                  0.00000   \n",
       "3                     164          902              20369.66667   \n",
       "4                      25          123              78247.33333   \n",
       "\n",
       "  In r/SuicideWatch  \n",
       "0                 y  \n",
       "1                 n  \n",
       "2                 n  \n",
       "3                 n  \n",
       "4                 n  "
      ]
     },
     "execution_count": 15,
     "metadata": {},
     "output_type": "execute_result"
    }
   ],
   "source": [
    "depression_df = pd.read_csv('../csv_files/user_activity_summary_d.csv')\n",
    "\n",
    "depression_df.head(5)"
   ]
  },
  {
   "cell_type": "code",
   "execution_count": 16,
   "metadata": {},
   "outputs": [
    {
     "name": "stdout",
     "output_type": "stream",
     "text": [
      "User ID                     object\n",
      "# of posts                   int64\n",
      "Post raw word count          int64\n",
      "# of comments                int64\n",
      "Comment raw word count       int64\n",
      "Words total                  int64\n",
      "Avg time b/w activities    float64\n",
      "In r/SuicideWatch           object\n",
      "dtype: object\n"
     ]
    }
   ],
   "source": [
    "data_types = depression_df.dtypes\n",
    "print(data_types)"
   ]
  },
  {
   "cell_type": "code",
   "execution_count": 17,
   "metadata": {},
   "outputs": [
    {
     "data": {
      "text/html": [
       "<div>\n",
       "<style scoped>\n",
       "    .dataframe tbody tr th:only-of-type {\n",
       "        vertical-align: middle;\n",
       "    }\n",
       "\n",
       "    .dataframe tbody tr th {\n",
       "        vertical-align: top;\n",
       "    }\n",
       "\n",
       "    .dataframe thead th {\n",
       "        text-align: right;\n",
       "    }\n",
       "</style>\n",
       "<table border=\"1\" class=\"dataframe\">\n",
       "  <thead>\n",
       "    <tr style=\"text-align: right;\">\n",
       "      <th></th>\n",
       "      <th># of posts</th>\n",
       "      <th>Post raw word count</th>\n",
       "      <th># of comments</th>\n",
       "      <th>Comment raw word count</th>\n",
       "      <th>Words total</th>\n",
       "      <th>Avg time b/w activities</th>\n",
       "    </tr>\n",
       "  </thead>\n",
       "  <tbody>\n",
       "    <tr>\n",
       "      <th>count</th>\n",
       "      <td>430684.00</td>\n",
       "      <td>430684.00</td>\n",
       "      <td>430684.00</td>\n",
       "      <td>430684.00</td>\n",
       "      <td>430684.00</td>\n",
       "      <td>4.306840e+05</td>\n",
       "    </tr>\n",
       "    <tr>\n",
       "      <th>mean</th>\n",
       "      <td>1.47</td>\n",
       "      <td>243.22</td>\n",
       "      <td>6.53</td>\n",
       "      <td>343.09</td>\n",
       "      <td>586.31</td>\n",
       "      <td>1.278098e+06</td>\n",
       "    </tr>\n",
       "    <tr>\n",
       "      <th>std</th>\n",
       "      <td>322.02</td>\n",
       "      <td>28672.60</td>\n",
       "      <td>745.74</td>\n",
       "      <td>10815.70</td>\n",
       "      <td>39362.10</td>\n",
       "      <td>4.422852e+06</td>\n",
       "    </tr>\n",
       "    <tr>\n",
       "      <th>min</th>\n",
       "      <td>0.00</td>\n",
       "      <td>0.00</td>\n",
       "      <td>0.00</td>\n",
       "      <td>0.00</td>\n",
       "      <td>0.00</td>\n",
       "      <td>0.000000e+00</td>\n",
       "    </tr>\n",
       "    <tr>\n",
       "      <th>25%</th>\n",
       "      <td>0.00</td>\n",
       "      <td>0.00</td>\n",
       "      <td>1.00</td>\n",
       "      <td>7.00</td>\n",
       "      <td>64.00</td>\n",
       "      <td>0.000000e+00</td>\n",
       "    </tr>\n",
       "    <tr>\n",
       "      <th>50%</th>\n",
       "      <td>1.00</td>\n",
       "      <td>8.00</td>\n",
       "      <td>1.00</td>\n",
       "      <td>66.00</td>\n",
       "      <td>194.00</td>\n",
       "      <td>7.673300e+02</td>\n",
       "    </tr>\n",
       "    <tr>\n",
       "      <th>75%</th>\n",
       "      <td>1.00</td>\n",
       "      <td>239.00</td>\n",
       "      <td>4.00</td>\n",
       "      <td>227.00</td>\n",
       "      <td>484.00</td>\n",
       "      <td>3.793595e+05</td>\n",
       "    </tr>\n",
       "    <tr>\n",
       "      <th>max</th>\n",
       "      <td>211324.00</td>\n",
       "      <td>18814454.00</td>\n",
       "      <td>489114.00</td>\n",
       "      <td>6980379.00</td>\n",
       "      <td>25794833.00</td>\n",
       "      <td>1.119556e+08</td>\n",
       "    </tr>\n",
       "  </tbody>\n",
       "</table>\n",
       "</div>"
      ],
      "text/plain": [
       "       # of posts  Post raw word count  # of comments  Comment raw word count  \\\n",
       "count   430684.00            430684.00      430684.00               430684.00   \n",
       "mean         1.47               243.22           6.53                  343.09   \n",
       "std        322.02             28672.60         745.74                10815.70   \n",
       "min          0.00                 0.00           0.00                    0.00   \n",
       "25%          0.00                 0.00           1.00                    7.00   \n",
       "50%          1.00                 8.00           1.00                   66.00   \n",
       "75%          1.00               239.00           4.00                  227.00   \n",
       "max     211324.00          18814454.00      489114.00              6980379.00   \n",
       "\n",
       "       Words total  Avg time b/w activities  \n",
       "count    430684.00             4.306840e+05  \n",
       "mean        586.31             1.278098e+06  \n",
       "std       39362.10             4.422852e+06  \n",
       "min           0.00             0.000000e+00  \n",
       "25%          64.00             0.000000e+00  \n",
       "50%         194.00             7.673300e+02  \n",
       "75%         484.00             3.793595e+05  \n",
       "max    25794833.00             1.119556e+08  "
      ]
     },
     "execution_count": 17,
     "metadata": {},
     "output_type": "execute_result"
    }
   ],
   "source": [
    "summary_stats = depression_df.describe().round(2)\n",
    "summary_stats"
   ]
  },
  {
   "cell_type": "code",
   "execution_count": 18,
   "metadata": {},
   "outputs": [
    {
     "name": "stdout",
     "output_type": "stream",
     "text": [
      "Index(['User ID', 'In r/SuicideWatch'], dtype='object')\n",
      "User ID unique: True\n",
      "\n",
      "In r/SuicideWatch\n",
      "n    377845\n",
      "y     52839\n",
      "Name: count, dtype: int64\n"
     ]
    }
   ],
   "source": [
    "categorical_cols = depression_df.select_dtypes(include=\"object\")\n",
    "print(categorical_cols.columns)\n",
    "\n",
    "user_id_unique = categorical_cols['User ID'].is_unique\n",
    "print(\"User ID unique:\", user_id_unique)\n",
    "print()\n",
    "\n",
    "sw_counts = categorical_cols['In r/SuicideWatch'].value_counts()\n",
    "print(sw_counts)"
   ]
  },
  {
   "cell_type": "code",
   "execution_count": 19,
   "metadata": {},
   "outputs": [
    {
     "name": "stdout",
     "output_type": "stream",
     "text": [
      "User ID                    0\n",
      "# of posts                 0\n",
      "Post raw word count        0\n",
      "# of comments              0\n",
      "Comment raw word count     0\n",
      "Words total                0\n",
      "Avg time b/w activities    0\n",
      "In r/SuicideWatch          0\n",
      "dtype: int64\n"
     ]
    }
   ],
   "source": [
    "''' \n",
    "Missing Data - none missing\n",
    "'''\n",
    "missing_data = depression_df.isnull().sum()\n",
    "print(missing_data)"
   ]
  },
  {
   "cell_type": "code",
   "execution_count": 20,
   "metadata": {},
   "outputs": [
    {
     "name": "stdout",
     "output_type": "stream",
     "text": [
      "Number of Zero Activity: 0\n"
     ]
    }
   ],
   "source": [
    "'''\n",
    "Look through 0 activty --> 0 for all column except User ID & In r/suicideWatch\n",
    "(so look through numerical data)\n",
    "'''\n",
    "numerical_data = depression_df.select_dtypes([\"int64\", \"float64\"])\n",
    "\n",
    "zero_activity_data = (numerical_data == 0).all(axis=1).sum()\n",
    "\n",
    "print(\"Number of Zero Activity:\", zero_activity_data)"
   ]
  },
  {
   "cell_type": "code",
   "execution_count": 21,
   "metadata": {},
   "outputs": [
    {
     "name": "stdout",
     "output_type": "stream",
     "text": [
      "Total users with 0 posts:  199137\n",
      "Total users with 0 post wc:  205784\n"
     ]
    }
   ],
   "source": [
    "''' \n",
    "Checking if # of 0 post wc == # of 0 posts\n",
    "'''\n",
    "zero_posts = (depression_df[\"# of posts\"] == 0).sum()\n",
    "zero_post_wc = (depression_df[\"Post raw word count\"] == 0).sum()\n",
    "\n",
    "print(\"Total users with 0 posts: \", zero_posts)\n",
    "print(\"Total users with 0 post wc: \", zero_post_wc)"
   ]
  },
  {
   "cell_type": "code",
   "execution_count": 22,
   "metadata": {},
   "outputs": [
    {
     "name": "stdout",
     "output_type": "stream",
     "text": [
      "Number of Zero Activity (w/o # of posts): 3244\n",
      "             User ID  # of posts  Post raw word count  # of comments  \\\n",
      "9   newdayfreshstart           1                    0              0   \n",
      "35    KarmaPolice777           1                    0              0   \n",
      "41            AlfaFu           1                    0              0   \n",
      "\n",
      "    Comment raw word count  Words total  Avg time b/w activities  \\\n",
      "9                        0            0                      0.0   \n",
      "35                       0            0                      0.0   \n",
      "41                       0            0                      0.0   \n",
      "\n",
      "   In r/SuicideWatch  \n",
      "9                  n  \n",
      "35                 n  \n",
      "41                 n  \n"
     ]
    }
   ],
   "source": [
    "''' \n",
    "There are some users that have 1 post but 0 post raw word count\n",
    "'''\n",
    "check_activity = numerical_data.drop(\"# of posts\", axis=1)\n",
    "\n",
    "zero_activity_data = (check_activity == 0).all(axis=1)\n",
    "\n",
    "print(\"Number of Zero Activity (w/o # of posts):\", zero_activity_data.sum())\n",
    "\n",
    "zero_rows = depression_df[zero_activity_data]\n",
    "\n",
    "print(zero_rows.head(3))"
   ]
  },
  {
   "cell_type": "code",
   "execution_count": 23,
   "metadata": {},
   "outputs": [
    {
     "name": "stdout",
     "output_type": "stream",
     "text": [
      "Number of Zero Activity (w/o # of comments): 11\n",
      "                User ID  # of posts  Post raw word count  # of comments  \\\n",
      "301535        Poodle448           0                    0              1   \n",
      "308324     LostBreezy24           0                    0              1   \n",
      "318901  itzlinknotzelda           0                    0              1   \n",
      "\n",
      "        Comment raw word count  Words total  Avg time b/w activities  \\\n",
      "301535                       0            0                      0.0   \n",
      "308324                       0            0                      0.0   \n",
      "318901                       0            0                      0.0   \n",
      "\n",
      "       In r/SuicideWatch  \n",
      "301535                 n  \n",
      "308324                 n  \n",
      "318901                 n  \n"
     ]
    }
   ],
   "source": [
    "'''\n",
    "There are some users that have 1 comment but 0 comment raw word count\n",
    "'''\n",
    "\n",
    "check_activity = numerical_data.drop(\"# of comments\", axis=1)\n",
    "\n",
    "zero_activity_data = (check_activity == 0).all(axis=1)\n",
    "\n",
    "print(\"Number of Zero Activity (w/o # of comments):\", zero_activity_data.sum())\n",
    "\n",
    "zero_rows = depression_df[zero_activity_data]\n",
    "\n",
    "print(zero_rows.head(3))\n"
   ]
  },
  {
   "cell_type": "code",
   "execution_count": 24,
   "metadata": {},
   "outputs": [],
   "source": [
    "''' \n",
    "Therefore, I am going to drop rows with the following condition:\n",
    "# of posts > Post raw word count\n",
    "# of comments > Comments raw word count\n",
    "\n",
    "Note: dropping it based off of Word total == 0 will not clean the data. \n",
    "e.g: Insecure_Young_Boy,1,0,1,1,1,713.0,n\n",
    "'''\n",
    "\n",
    "# we want to keep data that has \"# of posts\" <= \"Post raw word count\"\n",
    "posts_condition = depression_df[\"# of posts\"] <= depression_df[\"Post raw word count\"]\n",
    "comments_condition = depression_df[\"# of comments\"] <= depression_df[\"Comment raw word count\"]\n",
    "\n",
    "rows_to_delete = depression_df[posts_condition & comments_condition].index\n",
    "\n",
    "depression_df = depression_df.drop(index=rows_to_delete).reset_index(drop=True)\n"
   ]
  },
  {
   "cell_type": "markdown",
   "metadata": {},
   "source": [
    "### Results\n",
    "Based on the result above, I think it is safe to drop rows based on 1) # of posts > Post raw word count and 2) # of comments > Comments raw word count to remove no user activity (and I guess incorrect data?) - lmk what you think"
   ]
  },
  {
   "cell_type": "code",
   "execution_count": 25,
   "metadata": {},
   "outputs": [
    {
     "name": "stdout",
     "output_type": "stream",
     "text": [
      "# of posts: 46.98%\n",
      "Post raw word count: 46.98%\n",
      "# of comments: 19.94%\n",
      "Comment raw word count: 19.94%\n",
      "Words total: 0.00%\n",
      "Avg time b/w activities: 42.30%\n"
     ]
    }
   ],
   "source": [
    "''' \n",
    "Percentage of '0' in each column after cleaning:\n",
    "0 posts should equal 0 raw word count\n",
    "0 comments should equal 0 raw word count\n",
    "'''\n",
    "int_columns = [\"# of posts\", \"Post raw word count\", \"# of comments\", \"Comment raw word count\", \"Words total\", \"Avg time b/w activities\"]\n",
    "\n",
    "for column in int_columns:\n",
    "    sum_zero_column = (filtered_df[column] == 0).sum()\n",
    "    zero_col_per = (sum_zero_column / len(filtered_df)) * 100\n",
    "    print(f\"{column}: {zero_col_per:.2f}%\")\n"
   ]
  },
  {
   "cell_type": "markdown",
   "metadata": {},
   "source": [
    "# Outliers"
   ]
  },
  {
   "cell_type": "markdown",
   "metadata": {},
   "source": [
    "I don't think we should remove outliers since they are important for our models and also since our data is pretty limited."
   ]
  },
  {
   "cell_type": "code",
   "execution_count": 26,
   "metadata": {},
   "outputs": [
    {
     "name": "stdout",
     "output_type": "stream",
     "text": [
      "Using IQR Rule we found outliers in:\n",
      "  '# of posts': 28891 entries\n",
      "  'Post raw word count': 37054 entries\n",
      "  '# of comments': 49651 entries\n",
      "  'Comment raw word count': 48242 entries\n",
      "  'Words total': 40504 entries\n",
      "  'Avg time b/w activities': 80972 entries\n"
     ]
    }
   ],
   "source": [
    "def detect_outliers_iqr(df, column):\n",
    "    Q1 = df[column].quantile(0.25)\n",
    "    Q3 = df[column].quantile(0.75)\n",
    "    IQR = Q3 - Q1\n",
    "    lower_bound = Q1 - 1.5 * IQR\n",
    "    upper_bound = Q3 + 1.5 * IQR\n",
    "\n",
    "\n",
    "    lower_outliers = df[df[column] < lower_bound]\n",
    "    upper_outliers = df[df[column] > upper_bound]\n",
    "    # outliers = df[(df[column] < lower_bound) | (df[column] > upper_bound)]\n",
    "    outliers = pd.concat([lower_outliers, upper_outliers], axis=0)\n",
    "    \n",
    "    return outliers, lower_outliers, upper_outliers, lower_bound, upper_bound\n",
    "\n",
    "\n",
    "# Step 2: Detect outliers for each numerical column\n",
    "outliers_dict = {}\n",
    "for col in numerical_data:\n",
    "    outliers, *_ = detect_outliers_iqr(filtered_df, col)\n",
    "    if not outliers.empty:  # Only store columns with outliers\n",
    "        outliers_dict[col] = outliers\n",
    "\n",
    "# Step 3: Display the outliers for each numerical column\n",
    "if outliers_dict:\n",
    "    print(\"Using IQR Rule we found outliers in:\")\n",
    "    for col, outliers in outliers_dict.items():\n",
    "        print(f\"  '{col}': {len(outliers)} entries\")\n",
    "else:\n",
    "    print(\"No outliers detected in any numerical columns.\")"
   ]
  },
  {
   "cell_type": "markdown",
   "metadata": {},
   "source": [
    "### Note: Used data-clearning.ipynb instead for creating csv"
   ]
  }
 ],
 "metadata": {
  "kernelspec": {
   "display_name": "Python 3",
   "language": "python",
   "name": "python3"
  },
  "language_info": {
   "codemirror_mode": {
    "name": "ipython",
    "version": 3
   },
   "file_extension": ".py",
   "mimetype": "text/x-python",
   "name": "python",
   "nbconvert_exporter": "python",
   "pygments_lexer": "ipython3",
   "version": "3.13.0"
  }
 },
 "nbformat": 4,
 "nbformat_minor": 2
}
