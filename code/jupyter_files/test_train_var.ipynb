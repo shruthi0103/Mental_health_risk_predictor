{
 "cells": [
  {
   "cell_type": "code",
   "execution_count": 13,
   "metadata": {},
   "outputs": [],
   "source": [
    "import pandas as pd\n",
    "import numpy as np\n",
    "\n",
    "from sklearn.preprocessing import LabelEncoder, StandardScaler"
   ]
  },
  {
   "cell_type": "code",
   "execution_count": 14,
   "metadata": {},
   "outputs": [],
   "source": [
    "depression_df = pd.read_csv('../csv_files/clear_user_activity_d.csv')"
   ]
  },
  {
   "cell_type": "code",
   "execution_count": 15,
   "metadata": {},
   "outputs": [
    {
     "name": "stdout",
     "output_type": "stream",
     "text": [
      "<class 'pandas.core.frame.DataFrame'>\n",
      "RangeIndex: 423839 entries, 0 to 423838\n",
      "Data columns (total 8 columns):\n",
      " #   Column                   Non-Null Count   Dtype  \n",
      "---  ------                   --------------   -----  \n",
      " 0   User ID                  423839 non-null  object \n",
      " 1   # of posts               423839 non-null  int64  \n",
      " 2   Post raw word count      423839 non-null  int64  \n",
      " 3   # of comments            423839 non-null  int64  \n",
      " 4   Comment raw word count   423839 non-null  int64  \n",
      " 5   Words total              423839 non-null  int64  \n",
      " 6   Avg time b/w activities  423839 non-null  float64\n",
      " 7   In r/SuicideWatch        423839 non-null  object \n",
      "dtypes: float64(1), int64(5), object(2)\n",
      "memory usage: 25.9+ MB\n"
     ]
    }
   ],
   "source": [
    "depression_df.info()"
   ]
  },
  {
   "cell_type": "markdown",
   "metadata": {},
   "source": [
    "### Drop User ID"
   ]
  },
  {
   "cell_type": "code",
   "execution_count": 16,
   "metadata": {},
   "outputs": [
    {
     "data": {
      "text/html": [
       "<div>\n",
       "<style scoped>\n",
       "    .dataframe tbody tr th:only-of-type {\n",
       "        vertical-align: middle;\n",
       "    }\n",
       "\n",
       "    .dataframe tbody tr th {\n",
       "        vertical-align: top;\n",
       "    }\n",
       "\n",
       "    .dataframe thead th {\n",
       "        text-align: right;\n",
       "    }\n",
       "</style>\n",
       "<table border=\"1\" class=\"dataframe\">\n",
       "  <thead>\n",
       "    <tr style=\"text-align: right;\">\n",
       "      <th></th>\n",
       "      <th># of posts</th>\n",
       "      <th>Post raw word count</th>\n",
       "      <th># of comments</th>\n",
       "      <th>Comment raw word count</th>\n",
       "      <th>Words total</th>\n",
       "      <th>Avg time b/w activities</th>\n",
       "      <th>In r/SuicideWatch</th>\n",
       "    </tr>\n",
       "  </thead>\n",
       "  <tbody>\n",
       "    <tr>\n",
       "      <th>0</th>\n",
       "      <td>2</td>\n",
       "      <td>339</td>\n",
       "      <td>6</td>\n",
       "      <td>809</td>\n",
       "      <td>1148</td>\n",
       "      <td>206716.25000</td>\n",
       "      <td>n</td>\n",
       "    </tr>\n",
       "    <tr>\n",
       "      <th>1</th>\n",
       "      <td>1</td>\n",
       "      <td>81</td>\n",
       "      <td>0</td>\n",
       "      <td>0</td>\n",
       "      <td>81</td>\n",
       "      <td>0.00000</td>\n",
       "      <td>n</td>\n",
       "    </tr>\n",
       "    <tr>\n",
       "      <th>2</th>\n",
       "      <td>1</td>\n",
       "      <td>738</td>\n",
       "      <td>2</td>\n",
       "      <td>164</td>\n",
       "      <td>902</td>\n",
       "      <td>20369.66667</td>\n",
       "      <td>n</td>\n",
       "    </tr>\n",
       "    <tr>\n",
       "      <th>3</th>\n",
       "      <td>1</td>\n",
       "      <td>98</td>\n",
       "      <td>2</td>\n",
       "      <td>25</td>\n",
       "      <td>123</td>\n",
       "      <td>78247.33333</td>\n",
       "      <td>n</td>\n",
       "    </tr>\n",
       "    <tr>\n",
       "      <th>4</th>\n",
       "      <td>1</td>\n",
       "      <td>174</td>\n",
       "      <td>3</td>\n",
       "      <td>158</td>\n",
       "      <td>332</td>\n",
       "      <td>10011.00000</td>\n",
       "      <td>n</td>\n",
       "    </tr>\n",
       "  </tbody>\n",
       "</table>\n",
       "</div>"
      ],
      "text/plain": [
       "   # of posts  Post raw word count  # of comments  Comment raw word count  \\\n",
       "0           2                  339              6                     809   \n",
       "1           1                   81              0                       0   \n",
       "2           1                  738              2                     164   \n",
       "3           1                   98              2                      25   \n",
       "4           1                  174              3                     158   \n",
       "\n",
       "   Words total  Avg time b/w activities In r/SuicideWatch  \n",
       "0         1148             206716.25000                 n  \n",
       "1           81                  0.00000                 n  \n",
       "2          902              20369.66667                 n  \n",
       "3          123              78247.33333                 n  \n",
       "4          332              10011.00000                 n  "
      ]
     },
     "execution_count": 16,
     "metadata": {},
     "output_type": "execute_result"
    }
   ],
   "source": [
    "X = depression_df.drop(columns=\"User ID\", axis=1)\n",
    "X.head(5)"
   ]
  },
  {
   "cell_type": "markdown",
   "metadata": {},
   "source": [
    "### Encode \"In r/SuicideWatch\" \n",
    "- this will be target"
   ]
  },
  {
   "cell_type": "code",
   "execution_count": 17,
   "metadata": {},
   "outputs": [
    {
     "name": "stdout",
     "output_type": "stream",
     "text": [
      "Label to Integer Mapping:\n",
      "{'n': 0, 'y': 1}\n"
     ]
    }
   ],
   "source": [
    "encoder = LabelEncoder()\n",
    "\n",
    "X_sw_encoded = encoder.fit_transform(X[\"In r/SuicideWatch\"])\n",
    "\n",
    "label_mapping = dict(zip(encoder.classes_, range(len(encoder.classes_))))\n",
    "print(\"Label to Integer Mapping:\")\n",
    "print(label_mapping)"
   ]
  },
  {
   "cell_type": "markdown",
   "metadata": {},
   "source": [
    "### Scale Numerical Columns"
   ]
  },
  {
   "cell_type": "code",
   "execution_count": 18,
   "metadata": {},
   "outputs": [
    {
     "name": "stdout",
     "output_type": "stream",
     "text": [
      "['# of posts', 'Post raw word count', '# of comments', 'Comment raw word count', 'Words total', 'Avg time b/w activities']\n"
     ]
    }
   ],
   "source": [
    "X_numerical_col = depression_df.select_dtypes(include=[\"int64\", \"float64\"]).columns.tolist()\n",
    "print(X_numerical_col)\n",
    "\n",
    "scalar = StandardScaler()\n",
    "X_num_scaled = scalar.fit_transform(X[X_numerical_col])"
   ]
  },
  {
   "cell_type": "code",
   "execution_count": 19,
   "metadata": {},
   "outputs": [
    {
     "name": "stdout",
     "output_type": "stream",
     "text": [
      "   # of posts  Post raw word count  # of comments  Comment raw word count  \\\n",
      "0    0.371954             0.285386       0.023626                0.249286   \n",
      "1    0.009223            -0.254945      -0.213570               -0.169573   \n",
      "2    0.009223             1.121013      -0.134505               -0.084662   \n",
      "3    0.009223            -0.219342      -0.134505               -0.156629   \n",
      "4    0.009223            -0.060174      -0.094972               -0.087769   \n",
      "\n",
      "   Words total  Avg time b/w activities  \n",
      "0     0.294727                -0.242376  \n",
      "1    -0.214338                -0.289223  \n",
      "2     0.177361                -0.284607  \n",
      "3    -0.194299                -0.271491  \n",
      "4    -0.094586                -0.286955  \n"
     ]
    }
   ],
   "source": [
    "X_num_scaled_df = pd.DataFrame(X_num_scaled, columns=X_numerical_col)\n",
    "print(X_num_scaled_df.head(5))"
   ]
  },
  {
   "cell_type": "code",
   "execution_count": 20,
   "metadata": {},
   "outputs": [
    {
     "data": {
      "text/html": [
       "<div>\n",
       "<style scoped>\n",
       "    .dataframe tbody tr th:only-of-type {\n",
       "        vertical-align: middle;\n",
       "    }\n",
       "\n",
       "    .dataframe tbody tr th {\n",
       "        vertical-align: top;\n",
       "    }\n",
       "\n",
       "    .dataframe thead th {\n",
       "        text-align: right;\n",
       "    }\n",
       "</style>\n",
       "<table border=\"1\" class=\"dataframe\">\n",
       "  <thead>\n",
       "    <tr style=\"text-align: right;\">\n",
       "      <th></th>\n",
       "      <th>In r/SuicideWatch</th>\n",
       "    </tr>\n",
       "  </thead>\n",
       "  <tbody>\n",
       "    <tr>\n",
       "      <th>0</th>\n",
       "      <td>0</td>\n",
       "    </tr>\n",
       "    <tr>\n",
       "      <th>1</th>\n",
       "      <td>0</td>\n",
       "    </tr>\n",
       "    <tr>\n",
       "      <th>2</th>\n",
       "      <td>0</td>\n",
       "    </tr>\n",
       "    <tr>\n",
       "      <th>3</th>\n",
       "      <td>0</td>\n",
       "    </tr>\n",
       "    <tr>\n",
       "      <th>4</th>\n",
       "      <td>0</td>\n",
       "    </tr>\n",
       "    <tr>\n",
       "      <th>5</th>\n",
       "      <td>0</td>\n",
       "    </tr>\n",
       "    <tr>\n",
       "      <th>6</th>\n",
       "      <td>1</td>\n",
       "    </tr>\n",
       "    <tr>\n",
       "      <th>7</th>\n",
       "      <td>0</td>\n",
       "    </tr>\n",
       "    <tr>\n",
       "      <th>8</th>\n",
       "      <td>0</td>\n",
       "    </tr>\n",
       "    <tr>\n",
       "      <th>9</th>\n",
       "      <td>0</td>\n",
       "    </tr>\n",
       "  </tbody>\n",
       "</table>\n",
       "</div>"
      ],
      "text/plain": [
       "   In r/SuicideWatch\n",
       "0                  0\n",
       "1                  0\n",
       "2                  0\n",
       "3                  0\n",
       "4                  0\n",
       "5                  0\n",
       "6                  1\n",
       "7                  0\n",
       "8                  0\n",
       "9                  0"
      ]
     },
     "execution_count": 20,
     "metadata": {},
     "output_type": "execute_result"
    }
   ],
   "source": [
    "X_sw_encoded_df = pd.DataFrame(X_sw_encoded, columns=[\"In r/SuicideWatch\"])\n",
    "\n",
    "X_sw_encoded_df.head(10)"
   ]
  },
  {
   "cell_type": "code",
   "execution_count": 21,
   "metadata": {},
   "outputs": [
    {
     "data": {
      "text/html": [
       "<div>\n",
       "<style scoped>\n",
       "    .dataframe tbody tr th:only-of-type {\n",
       "        vertical-align: middle;\n",
       "    }\n",
       "\n",
       "    .dataframe tbody tr th {\n",
       "        vertical-align: top;\n",
       "    }\n",
       "\n",
       "    .dataframe thead th {\n",
       "        text-align: right;\n",
       "    }\n",
       "</style>\n",
       "<table border=\"1\" class=\"dataframe\">\n",
       "  <thead>\n",
       "    <tr style=\"text-align: right;\">\n",
       "      <th></th>\n",
       "      <th># of posts</th>\n",
       "      <th>Post raw word count</th>\n",
       "      <th># of comments</th>\n",
       "      <th>Comment raw word count</th>\n",
       "      <th>Words total</th>\n",
       "      <th>Avg time b/w activities</th>\n",
       "      <th>In r/SuicideWatch</th>\n",
       "    </tr>\n",
       "  </thead>\n",
       "  <tbody>\n",
       "    <tr>\n",
       "      <th>0</th>\n",
       "      <td>0.371954</td>\n",
       "      <td>0.285386</td>\n",
       "      <td>0.023626</td>\n",
       "      <td>0.249286</td>\n",
       "      <td>0.294727</td>\n",
       "      <td>-0.242376</td>\n",
       "      <td>0</td>\n",
       "    </tr>\n",
       "    <tr>\n",
       "      <th>1</th>\n",
       "      <td>0.009223</td>\n",
       "      <td>-0.254945</td>\n",
       "      <td>-0.213570</td>\n",
       "      <td>-0.169573</td>\n",
       "      <td>-0.214338</td>\n",
       "      <td>-0.289223</td>\n",
       "      <td>0</td>\n",
       "    </tr>\n",
       "    <tr>\n",
       "      <th>2</th>\n",
       "      <td>0.009223</td>\n",
       "      <td>1.121013</td>\n",
       "      <td>-0.134505</td>\n",
       "      <td>-0.084662</td>\n",
       "      <td>0.177361</td>\n",
       "      <td>-0.284607</td>\n",
       "      <td>0</td>\n",
       "    </tr>\n",
       "    <tr>\n",
       "      <th>3</th>\n",
       "      <td>0.009223</td>\n",
       "      <td>-0.219342</td>\n",
       "      <td>-0.134505</td>\n",
       "      <td>-0.156629</td>\n",
       "      <td>-0.194299</td>\n",
       "      <td>-0.271491</td>\n",
       "      <td>0</td>\n",
       "    </tr>\n",
       "    <tr>\n",
       "      <th>4</th>\n",
       "      <td>0.009223</td>\n",
       "      <td>-0.060174</td>\n",
       "      <td>-0.094972</td>\n",
       "      <td>-0.087769</td>\n",
       "      <td>-0.094586</td>\n",
       "      <td>-0.286955</td>\n",
       "      <td>0</td>\n",
       "    </tr>\n",
       "    <tr>\n",
       "      <th>5</th>\n",
       "      <td>0.009223</td>\n",
       "      <td>-0.198399</td>\n",
       "      <td>-0.174037</td>\n",
       "      <td>-0.162325</td>\n",
       "      <td>-0.194777</td>\n",
       "      <td>-0.285685</td>\n",
       "      <td>0</td>\n",
       "    </tr>\n",
       "    <tr>\n",
       "      <th>6</th>\n",
       "      <td>3.636531</td>\n",
       "      <td>5.341036</td>\n",
       "      <td>2.276987</td>\n",
       "      <td>1.857935</td>\n",
       "      <td>2.928790</td>\n",
       "      <td>-0.246332</td>\n",
       "      <td>1</td>\n",
       "    </tr>\n",
       "    <tr>\n",
       "      <th>7</th>\n",
       "      <td>0.009223</td>\n",
       "      <td>-0.227719</td>\n",
       "      <td>-0.055439</td>\n",
       "      <td>-0.144721</td>\n",
       "      <td>-0.185235</td>\n",
       "      <td>-0.288340</td>\n",
       "      <td>0</td>\n",
       "    </tr>\n",
       "    <tr>\n",
       "      <th>8</th>\n",
       "      <td>0.009223</td>\n",
       "      <td>-0.160701</td>\n",
       "      <td>-0.134505</td>\n",
       "      <td>-0.126082</td>\n",
       "      <td>-0.152792</td>\n",
       "      <td>-0.285860</td>\n",
       "      <td>0</td>\n",
       "    </tr>\n",
       "    <tr>\n",
       "      <th>9</th>\n",
       "      <td>0.371954</td>\n",
       "      <td>-0.125098</td>\n",
       "      <td>-0.094972</td>\n",
       "      <td>-0.161807</td>\n",
       "      <td>-0.177601</td>\n",
       "      <td>-0.268666</td>\n",
       "      <td>0</td>\n",
       "    </tr>\n",
       "  </tbody>\n",
       "</table>\n",
       "</div>"
      ],
      "text/plain": [
       "   # of posts  Post raw word count  # of comments  Comment raw word count  \\\n",
       "0    0.371954             0.285386       0.023626                0.249286   \n",
       "1    0.009223            -0.254945      -0.213570               -0.169573   \n",
       "2    0.009223             1.121013      -0.134505               -0.084662   \n",
       "3    0.009223            -0.219342      -0.134505               -0.156629   \n",
       "4    0.009223            -0.060174      -0.094972               -0.087769   \n",
       "5    0.009223            -0.198399      -0.174037               -0.162325   \n",
       "6    3.636531             5.341036       2.276987                1.857935   \n",
       "7    0.009223            -0.227719      -0.055439               -0.144721   \n",
       "8    0.009223            -0.160701      -0.134505               -0.126082   \n",
       "9    0.371954            -0.125098      -0.094972               -0.161807   \n",
       "\n",
       "   Words total  Avg time b/w activities  In r/SuicideWatch  \n",
       "0     0.294727                -0.242376                  0  \n",
       "1    -0.214338                -0.289223                  0  \n",
       "2     0.177361                -0.284607                  0  \n",
       "3    -0.194299                -0.271491                  0  \n",
       "4    -0.094586                -0.286955                  0  \n",
       "5    -0.194777                -0.285685                  0  \n",
       "6     2.928790                -0.246332                  1  \n",
       "7    -0.185235                -0.288340                  0  \n",
       "8    -0.152792                -0.285860                  0  \n",
       "9    -0.177601                -0.268666                  0  "
      ]
     },
     "execution_count": 21,
     "metadata": {},
     "output_type": "execute_result"
    }
   ],
   "source": [
    "X_merged = pd.concat([X_num_scaled_df, X_sw_encoded_df], axis=1)\n",
    "\n",
    "X_merged.head(10)"
   ]
  },
  {
   "cell_type": "code",
   "execution_count": 22,
   "metadata": {},
   "outputs": [],
   "source": [
    "X = X_merged.drop(columns=\"In r/SuicideWatch\")\n",
    "y = X_merged[\"In r/SuicideWatch\"]"
   ]
  },
  {
   "cell_type": "code",
   "execution_count": 23,
   "metadata": {},
   "outputs": [],
   "source": [
    "import pickle\n",
    "\n",
    "with open('data.pk1', 'wb') as f:\n",
    "    pickle.dump((X, y), f)\n",
    "\n",
    "# import ^ with the following:\n",
    "\n",
    "# import pickle\n",
    "# with open('data.pk1', 'rb') as f:\n",
    "#     X, y = pickle.load(f)"
   ]
  }
 ],
 "metadata": {
  "kernelspec": {
   "display_name": "Python 3",
   "language": "python",
   "name": "python3"
  },
  "language_info": {
   "codemirror_mode": {
    "name": "ipython",
    "version": 3
   },
   "file_extension": ".py",
   "mimetype": "text/x-python",
   "name": "python",
   "nbconvert_exporter": "python",
   "pygments_lexer": "ipython3",
   "version": "3.13.0"
  }
 },
 "nbformat": 4,
 "nbformat_minor": 2
}
